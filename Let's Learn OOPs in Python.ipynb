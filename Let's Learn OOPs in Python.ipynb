{
 "cells": [
  {
   "cell_type": "markdown",
   "id": "8b9e1543",
   "metadata": {},
   "source": [
    "## Some Concept\n",
    "- Decorator"
   ]
  },
  {
   "cell_type": "code",
   "execution_count": 52,
   "id": "9e1aab65",
   "metadata": {},
   "outputs": [
    {
     "data": {
      "text/plain": [
       "4.0"
      ]
     },
     "execution_count": 52,
     "metadata": {},
     "output_type": "execute_result"
    }
   ],
   "source": [
    "# Decorators - Can add functionality to the existing function \n",
    "# use - When we have use a function multiple time\n",
    "\n",
    "\n",
    "# we learn it with an example \n",
    "# Problem : Divide two number such that bigger number will always be in numerator \n",
    "\n",
    "def swap(func):    #creating a function which we will mulitple time to swap the values\n",
    "    \n",
    "    def inner(a,b):\n",
    "        if a<b:\n",
    "            a,b=b,a\n",
    "        return func(a,b)\n",
    "    return inner\n",
    "\n",
    "@swap  #kind of calling/adding new functionality to div1( swap function), ''@'' symbol is important to call \n",
    "def div1(a,b):    \n",
    "    div=a/b\n",
    "    return div\n",
    "\n",
    "# sum1 = swap(sum1) #another way to define a decorators\n",
    "\n",
    "div1(5,20)\n"
   ]
  },
  {
   "cell_type": "markdown",
   "id": "4a7512bd",
   "metadata": {},
   "source": [
    "# Object oriented programmming\n",
    "- Class\n",
    "- instance/Object\n",
    "- Method\n",
    "- inheritance\n",
    "\n"
   ]
  },
  {
   "cell_type": "code",
   "execution_count": 53,
   "id": "f3a5f14b",
   "metadata": {},
   "outputs": [],
   "source": [
    "# Class: In class we designe an object\n"
   ]
  },
  {
   "cell_type": "code",
   "execution_count": 56,
   "id": "1fb24914",
   "metadata": {},
   "outputs": [
    {
     "name": "stdout",
     "output_type": "stream",
     "text": [
      "Ram empid - N1121 Manager\n",
      "Ram empid - N1121 Manager\n",
      "Ram empid - N1121 Manager\n",
      "Ram empid - N1121 Manager\n"
     ]
    }
   ],
   "source": [
    "# How we difine a class : we use class keyword to define a class\n",
    "# let's define a class with method\n",
    "class emp:\n",
    "    # we can add attributes inside a class also varibale(features)\n",
    "    # we can add method indside a class, method are nothing but function, if a function is inside a class we call it as a method\n",
    "    def detail(self):\n",
    "        print(\"Ram\",\"empid - N1121\",\"Manager\")\n",
    "    \n",
    "a = emp() # a is an object\n",
    "b= emp() # a is an object\n",
    "\n",
    "emp.detail(a) #calling class function\n",
    "emp.detail(b)#calling class function\n",
    "\n",
    "# another method to call the class function - Use this it is more easy\n",
    "\n",
    "a.detail()\n",
    "b.detail()\n"
   ]
  },
  {
   "cell_type": "code",
   "execution_count": 71,
   "id": "2edeb00a",
   "metadata": {},
   "outputs": [
    {
     "name": "stdout",
     "output_type": "stream",
     "text": [
      "emp details: Shyam 123 Managere\n",
      "emp details: Tina 567 Hr\n"
     ]
    }
   ],
   "source": [
    "# let's define a class with method and variable\n",
    "class emp:\n",
    "    \n",
    "    def __init__(self,name,emp_code,desg): #__init__ used to intialize the varible, it call itself\n",
    "        self.name = name                   #Name, Emp_code and desg are not local varibale these belong to an object\n",
    "        self.emp_code = emp_code\n",
    "        self.desg = desg\n",
    "    \n",
    "    def emp_detail(self):\n",
    "        print(\"emp details:\", self.name,self.emp_code,self.desg) # to refer to an object we use self\n",
    "    \n",
    "a = emp(\"Shyam\",123,\"Managere\") # a is an object\n",
    "b= emp(\"Tina\",567,\"Hr\") # b is an object\n",
    "\n",
    "a.emp_detail()\n",
    "b.emp_detail()\n"
   ]
  },
  {
   "cell_type": "code",
   "execution_count": 80,
   "id": "6cc15626",
   "metadata": {},
   "outputs": [
    {
     "name": "stdout",
     "output_type": "stream",
     "text": [
      "Logan Sales\n",
      "DD Sales\n",
      "Same department\n"
     ]
    }
   ],
   "source": [
    "# Now let's dicuss Self and init\n",
    "\n",
    "class emp:\n",
    "    def __init__(self):\n",
    "        self.name = \"DD\" #these are variables\n",
    "        self.dep = \"IT\"\n",
    "    def change(self):      #to update an object\n",
    "        self.dep = \"Sales\"\n",
    "    def compare(self,next_dep): #to comapre two oject\n",
    "        if self.dep == next_dep.dep:\n",
    "             return True\n",
    "        else:\n",
    "            return False\n",
    "        \n",
    "e1 = emp()\n",
    "e2 = emp()\n",
    "\n",
    "#let's update an object\n",
    "e1.change() #upating an oject using class method\n",
    "\n",
    "e1.name = \"Logan\"    #Globally  changing updating \n",
    "e2.dep = \"Sales\"\n",
    "\n",
    "\n",
    "\n",
    "print(e1.name,e1.dep)\n",
    "print(e2.name,e2.dep)\n",
    "\n",
    "\n",
    "# Let's compare two objects\n",
    "\n",
    "if e1.compare(e2):  # this is how you compare two object, by creating a compare method in class\n",
    "    print(\"Same department\")\n",
    "else:\n",
    "    print(\"Different department\")\n"
   ]
  },
  {
   "cell_type": "code",
   "execution_count": 84,
   "id": "6d90fa85",
   "metadata": {},
   "outputs": [
    {
     "name": "stdout",
     "output_type": "stream",
     "text": [
      "Enter the Name: DD\n",
      "Enter the Department: IT\n",
      "Enter the Name: VV\n",
      "Enter the Department: IT\n",
      "Same department\n"
     ]
    }
   ],
   "source": [
    "# Now let's take the input from the user and then compare the department\n",
    "\n",
    "class emp:\n",
    "    def __init__(self):\n",
    "        self.name = input(\"Enter the Name: \")   #these are variables\n",
    "        self.dep = input(\"Enter the Department: \")\n",
    "    def compare(self,next_dep): #to comapre two oject\n",
    "        if self.dep == next_dep.dep:\n",
    "             return True\n",
    "        else:\n",
    "            return False\n",
    "        \n",
    "e1 = emp()\n",
    "e2 = emp()\n",
    "\n",
    "# Let's compare two objects\n",
    "\n",
    "if e1.compare(e2):  # this is how you compare two object, by creating a compare method in class\n",
    "    print(\"Same department\")\n",
    "else:\n",
    "    print(\"Different department\")\n",
    "    \n"
   ]
  },
  {
   "cell_type": "code",
   "execution_count": 21,
   "id": "6d2dd072",
   "metadata": {},
   "outputs": [
    {
     "name": "stdout",
     "output_type": "stream",
     "text": [
      "JMPS London Money\n",
      "JMPS Delhi Money\n"
     ]
    }
   ],
   "source": [
    "# Variables - varible are of two types onr is class variable or static varibale and 2nd instance varible\n",
    "# varible - to store data\n",
    "class school:\n",
    "    type =\"Eduction\" # class varible - it's value chnages using class name only\n",
    "    \n",
    "    def __init__(self):\n",
    "        # if a varible is defined inside init it is instnace varible\n",
    "        self.name = \"JMPS\" # these are instance varible: there value can change using object\n",
    "        self.area = \"Delhi\"\n",
    "        \n",
    "b1 = school()        \n",
    "b2 = school()    \n",
    "\n",
    "b1.area = \"London\" #area is a instance varible we can change it's value\n",
    "school.type = \"Money\" #type is class varible can be changed using class\n",
    "\n",
    "print(b1.name,b1.area,b1.type)\n",
    "print(b2.name,b2.area,b1.type)\n",
    "    \n",
    "    \n",
    "    \n",
    "    "
   ]
  },
  {
   "cell_type": "code",
   "execution_count": 41,
   "id": "ae9d3c0c",
   "metadata": {},
   "outputs": [
    {
     "name": "stdout",
     "output_type": "stream",
     "text": [
      "31.666666666666668\n",
      "41.0\n",
      "JMPS\n",
      "This is OOPS class\n"
     ]
    }
   ],
   "source": [
    "#methods - behavior of the class\n",
    "#types of method\n",
    "# - Instance methods, class methods and static method\n",
    "\n",
    "class student:\n",
    "    \n",
    "    school = \"JMPS\"\n",
    "    \n",
    "    def __init__(self,m1,m2,m3):\n",
    "        self.m1 = m1     # m1,m2,m2 instance variable\n",
    "        self.m2 = m2\n",
    "        self.m3 = m3\n",
    "    \n",
    "    #these are instance method\n",
    "    def avg(self):  #instance method because it work with object , here self\n",
    "        return (self.m1+self.m2+self.m3)/3\n",
    "    def get_m1(self):\n",
    "        return self.m1\n",
    "    def set_m1(self,value):\n",
    "        self.m1=value\n",
    "     \n",
    "    #class method\n",
    "    @classmethod   #for class method we have to use classmethod decorator to access the method\n",
    "    def get_school(cls):  # class method note: for class method we use cls not self\n",
    "        return cls.school  #school is class varible\n",
    "    \n",
    "    #static method\n",
    "    @staticmethod  #for static method we have to use staticmethod decorator to access the method\n",
    "    def info():\n",
    "        return \"This is OOPS class\"\n",
    "        \n",
    "    \n",
    "s1 = student(20,30,45)\n",
    "s2 = student(23,45,55)\n",
    "\n",
    "#calling of instance method\n",
    "print(s1.avg())\n",
    "print(s2.avg())\n",
    "\n",
    "#calling of class\n",
    "print(student.get_school())\n",
    "\n",
    "#calling of static methid\n",
    "print(student.info())"
   ]
  },
  {
   "cell_type": "code",
   "execution_count": 65,
   "id": "ae95cd02",
   "metadata": {},
   "outputs": [
    {
     "name": "stdout",
     "output_type": "stream",
     "text": [
      "DD 23\n",
      "Apple M1 pro 64GB\n"
     ]
    }
   ],
   "source": [
    "#class inside a class\n",
    "\n",
    "class student:\n",
    "    \n",
    "    def __init__(self,name,rollno):\n",
    "        self.name = name\n",
    "        self.rollno = rollno\n",
    "        self.lap = self.laptop() # to call from inside the class\n",
    "    def show(self):\n",
    "        print(self.name,self.rollno)\n",
    "        self.lap.show()\n",
    "        \n",
    "    class laptop:\n",
    "        def __init__(self):\n",
    "            self.brand = \"Apple\"\n",
    "            self.cpu = \"M1 pro\"\n",
    "            self.ram = \"64GB\"\n",
    "            \n",
    "        def show(self):\n",
    "            print(self.brand,self.cpu,self.ram)\n",
    "        \n",
    "s1= student(\"DD\",23)\n",
    "s2 = student(\"mm\",45)\n",
    "\n",
    "#to print (name and rollno of s1) we use below command\n",
    "# print(s1.name,s1.rollno) \n",
    "\n",
    "#lets find a easy way by definning a funcrtion a in the class as show to print this for us\n",
    "#like s1.show()\n",
    "s1.show()\n",
    " \n",
    "#accessing laptop method\n",
    "# s1.lap.brand   \n",
    "#another way by definning an object\n",
    "# lap1=s1.lap\n",
    "# lap2=s1.lap\n",
    "\n",
    "# print(lap1.brand)\n",
    "\n"
   ]
  },
  {
   "cell_type": "code",
   "execution_count": 82,
   "id": "337a9da6",
   "metadata": {},
   "outputs": [
    {
     "name": "stdout",
     "output_type": "stream",
     "text": [
      "feat2 - workig\n",
      "feat4 - workig\n",
      "feat3 - workig\n",
      "feat4 - workig\n"
     ]
    }
   ],
   "source": [
    "# inheritance\n",
    "class a:  #independent class\n",
    "    def feature1(self):\n",
    "        print(\"feat1 - workig\")\n",
    "    def feature2(self):\n",
    "        print(\"feat2 - workig\")\n",
    "        \n",
    "class b: #independent class\n",
    "    def feature3(self):\n",
    "        print(\"feat3 - workig\")\n",
    "    def feature4(self):\n",
    "        print(\"feat4 - workig\")\n",
    "\n",
    "class c(b): #inheriting from b (multilevel inheritance)\n",
    "    def feature5(self):\n",
    "        print(\"feat5 - workig\")\n",
    "        \n",
    "        \n",
    "class d(a,b): #inheriting from a and b (multiple inheritance) , a aand b are not related\n",
    "    def feature5(self):\n",
    "        print(\"feat5 - workig\")\n",
    "    \n",
    "        \n",
    "        \n",
    "w =a()\n",
    "x=b()\n",
    "y=c()\n",
    "z=d()\n",
    "\n",
    "w.feature2()\n",
    "x.feature4()\n",
    "y.feature3()\n",
    "z.feature4()"
   ]
  },
  {
   "cell_type": "markdown",
   "id": "52b7736f",
   "metadata": {},
   "source": [
    "### New topic\n",
    "- Constructor in heritance\n",
    "- Method resolution order (MRO)\n",
    "\n"
   ]
  },
  {
   "cell_type": "code",
   "execution_count": 89,
   "id": "6853e8e0",
   "metadata": {},
   "outputs": [
    {
     "name": "stdout",
     "output_type": "stream",
     "text": [
      "hello\n",
      "world\n"
     ]
    }
   ],
   "source": [
    "#Constructor\n",
    "class a:  #independent class\n",
    "    def __init__(self): #init is Constructor \n",
    "        print(\"hello\")\n",
    "    def feature1(self):\n",
    "        print(\"feat1 - workig\")\n",
    "    def feature2(self):\n",
    "        print(\"feat2 - workig\")\n",
    "        \n",
    "class b(a): #independent class\n",
    "    def __init__(self):\n",
    "        super().__init__()  #super method to remember\n",
    "        print(\"world\")\n",
    "    def feature3(self):\n",
    "        print(\"feat3 - workig\")\n",
    "    def feature4(self):\n",
    "        print(\"feat4 - workig\")\n",
    "\n",
    "        \n",
    "a1 = b()\n"
   ]
  },
  {
   "cell_type": "markdown",
   "id": "097fb249",
   "metadata": {},
   "source": [
    "- if subclass doesnot have init then it will take init of parent class\n",
    "- if subclass has init then it will class init of b \n",
    "- if you want call the init of super class\n",
    "    - we use 'super' method to call init to a along with itself init  "
   ]
  },
  {
   "cell_type": "code",
   "execution_count": 97,
   "id": "8f60a95e",
   "metadata": {},
   "outputs": [
    {
     "name": "stdout",
     "output_type": "stream",
     "text": [
      "hello A\n",
      "hello A\n",
      "init of C\n"
     ]
    }
   ],
   "source": [
    "# Method resolution order (MRO)\n",
    "\n",
    "class a:  #independent class\n",
    "    def __init__(self): #init is Constructor \n",
    "        print(\"hello A\")\n",
    "    def feature1(self):\n",
    "        print(\"feat1 - workig\")\n",
    "    def feature2(self):\n",
    "        print(\"feat2 - workig\")\n",
    "        \n",
    "class b: #independent class\n",
    "    def __init__(self):\n",
    "        print(\"world B\")\n",
    "    def feature3(self):\n",
    "        print(\"feat3 - workig\")\n",
    "    def feature4(self):\n",
    "        print(\"feat4 - workig\")\n",
    "class c(a,b):\n",
    "    def __init__(self):\n",
    "        super().__init__()#MRO - left to right\n",
    "        print(\"init of C\")\n",
    "        \n",
    "a1 = c()"
   ]
  },
  {
   "cell_type": "markdown",
   "id": "44d5c85c",
   "metadata": {},
   "source": [
    "## Polymorphism - one thing many form\n",
    "\n",
    "## Method of implementing polymorphism \n",
    "- Duck typing : if a method behave like other method\n",
    "- Operator Overloading : overwritting the inbuilt method operand\n",
    "- Method Overloading : class with two methods with same name but different parameter.\n",
    "- Method Overriding : two method with same name and same parametres \n",
    "\n",
    "\n",
    "\n"
   ]
  },
  {
   "cell_type": "markdown",
   "id": "a93afd16",
   "metadata": {},
   "source": [
    "## Duck typing\n"
   ]
  },
  {
   "cell_type": "code",
   "execution_count": 100,
   "id": "ebda5827",
   "metadata": {},
   "outputs": [
    {
     "name": "stdout",
     "output_type": "stream",
     "text": [
      "Complie\n",
      "Running\n",
      "Spell check\n"
     ]
    }
   ],
   "source": [
    "class py:\n",
    "    def execute(self):\n",
    "        print(\"Complie\")\n",
    "        print(\"Running\")\n",
    "class myide:\n",
    "    def execute(self):\n",
    "        print(\"Complie\")\n",
    "        print(\"Running\")\n",
    "        print(\"Spell check\")\n",
    "    \n",
    "class laptop:\n",
    "    def code(self,ide):\n",
    "        ide.execute()\n",
    "        \n",
    "        \n",
    "ide = myide()\n",
    "laptop_object = laptop()\n",
    "laptop_object.code(ide)\n",
    "\n"
   ]
  },
  {
   "cell_type": "markdown",
   "id": "4ee2e32f",
   "metadata": {},
   "source": [
    "## Operator Overloading"
   ]
  },
  {
   "cell_type": "code",
   "execution_count": 109,
   "id": "4769d0a8",
   "metadata": {},
   "outputs": [
    {
     "name": "stdout",
     "output_type": "stream",
     "text": [
      "30\n"
     ]
    }
   ],
   "source": [
    "class student:\n",
    "    def __init__(self,m1,m2):\n",
    "        self.m1=m1\n",
    "        self.m2=m2\n",
    "    def __add__(self,other):\n",
    "        x1  = self.m1 + other.m1\n",
    "        x2 = self.m2 + other.m2\n",
    "        s3 = student(x1,x2)\n",
    "        return s3\n",
    "        \n",
    "    \n",
    "s1 = student(23,34)\n",
    "s2 = student(7,6)\n",
    "\n",
    "s3 = s1+s2\n",
    "print(s3.m1)\n",
    "\n",
    "\n"
   ]
  },
  {
   "cell_type": "markdown",
   "id": "9d800a44",
   "metadata": {},
   "source": [
    "## Method Overloading"
   ]
  },
  {
   "cell_type": "code",
   "execution_count": 117,
   "id": "640c7183",
   "metadata": {},
   "outputs": [
    {
     "name": "stdout",
     "output_type": "stream",
     "text": [
      "3\n",
      "10\n",
      "2\n"
     ]
    }
   ],
   "source": [
    "class student:\n",
    "    def __init__(self,m1,m2):\n",
    "        self.m1=m1\n",
    "        self.m2=m2\n",
    "    def sum(self,a=None,b=None,c=None):\n",
    "        s=0\n",
    "        if a!= None and b!= None and c!= None:\n",
    "            s=a+b+c\n",
    "        elif a!= None and b!= None :\n",
    "            s= a+b\n",
    "        else:\n",
    "            s=a\n",
    "        return s\n",
    "    \n",
    "    \n",
    "s1 = student(22,33)\n",
    "print(s1.sum(1,2))\n",
    "print(s1.sum(2,5,3))\n",
    "print(s1.sum(2))\n"
   ]
  },
  {
   "cell_type": "markdown",
   "id": "51e6b9d3",
   "metadata": {},
   "source": [
    "## Method Overriding"
   ]
  },
  {
   "cell_type": "code",
   "execution_count": 122,
   "id": "ea1be98d",
   "metadata": {},
   "outputs": [
    {
     "name": "stdout",
     "output_type": "stream",
     "text": [
      "In B show\n"
     ]
    }
   ],
   "source": [
    "class a:\n",
    "    def show(self):\n",
    "        print(\"in A show\")\n",
    "class b(a):\n",
    "    def show(self):\n",
    "        print(\"In B show\")\n",
    "\n",
    "a1 = b()\n",
    "a1.show()"
   ]
  },
  {
   "cell_type": "code",
   "execution_count": null,
   "id": "194578b0",
   "metadata": {},
   "outputs": [],
   "source": []
  },
  {
   "cell_type": "code",
   "execution_count": null,
   "id": "6992b742",
   "metadata": {},
   "outputs": [],
   "source": []
  },
  {
   "cell_type": "code",
   "execution_count": null,
   "id": "fda04922",
   "metadata": {},
   "outputs": [],
   "source": []
  }
 ],
 "metadata": {
  "kernelspec": {
   "display_name": "Python 3",
   "language": "python",
   "name": "python3"
  },
  "language_info": {
   "codemirror_mode": {
    "name": "ipython",
    "version": 3
   },
   "file_extension": ".py",
   "mimetype": "text/x-python",
   "name": "python",
   "nbconvert_exporter": "python",
   "pygments_lexer": "ipython3",
   "version": "3.8.8"
  }
 },
 "nbformat": 4,
 "nbformat_minor": 5
}
